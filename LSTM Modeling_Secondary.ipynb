{
 "cells": [
  {
   "cell_type": "code",
   "execution_count": 100,
   "metadata": {},
   "outputs": [],
   "source": [
    "import numpy as np\n",
    "import pickle\n",
    "import matplotlib.pyplot as plt\n",
    "import seaborn as sns\n",
    "import pandas as pd\n",
    "from collections import defaultdict\n",
    "from sklearn.metrics import mean_squared_error\n",
    "from keras.models import Sequential\n",
    "from keras.layers import LSTM, Dense, Dropout"
   ]
  },
  {
   "cell_type": "markdown",
   "metadata": {},
   "source": [
    "### Loading Series"
   ]
  },
  {
   "cell_type": "code",
   "execution_count": 101,
   "metadata": {},
   "outputs": [],
   "source": [
    "# Pickling Call Volume 2018 series\n",
    "redo_pickle = False\n",
    "\n",
    "if redo_pickle == True:\n",
    "    with open('hourly_call_volume_medical_2018.pickle','wb') as f:\n",
    "        pickle.dump(hourly_call_volume_medical_2018,f)\n",
    "        \n",
    "if redo_pickle == False:\n",
    "    with open('hourly_call_volume_medical_2018.pickle','rb') as f:\n",
    "        hourly_call_volume_medical_2018 = pickle.load(f)"
   ]
  },
  {
   "cell_type": "code",
   "execution_count": 102,
   "metadata": {},
   "outputs": [],
   "source": [
    "# Pickling All Call Volume series\n",
    "redo_pickle = False\n",
    "\n",
    "if redo_pickle == True:\n",
    "    with open('hourly_call_volume_medical_all.pickle','wb') as f:\n",
    "        pickle.dump(hourly_call_volume_medical_all,f)\n",
    "        \n",
    "if redo_pickle == False:\n",
    "    with open('hourly_call_volume_medical_all.pickle','rb') as f:\n",
    "        hourly_call_volume_medical_all = pickle.load(f)"
   ]
  },
  {
   "cell_type": "code",
   "execution_count": 103,
   "metadata": {},
   "outputs": [],
   "source": [
    "# Pickling Unavailable Units 2018 series\n",
    "redo_pickle = False\n",
    "\n",
    "if redo_pickle == True:\n",
    "    with open('unavailable_units_15_min_int_counts_2018_df.pickle','wb') as f:\n",
    "        pickle.dump(unavailable_units_15_min_int_counts_2018_df,f)\n",
    "        \n",
    "if redo_pickle == False:\n",
    "    with open('unavailable_units_15_min_int_counts_2018_df.pickle','rb') as f:\n",
    "        unavailable_units_15_min_int_counts_2018_df = pickle.load(f)"
   ]
  },
  {
   "cell_type": "markdown",
   "metadata": {},
   "source": [
    "### Functions"
   ]
  },
  {
   "cell_type": "code",
   "execution_count": 104,
   "metadata": {},
   "outputs": [],
   "source": [
    "# split a univariate sequence into samples\n",
    "def split_sequence(sequence, n_steps):\n",
    "    X, y = list(), list()\n",
    "    for i in range(len(sequence)):\n",
    "        # find the end of this pattern\n",
    "        end_ix = i + n_steps\n",
    "        # check if we are beyond the sequence\n",
    "        if end_ix > len(sequence)-1:\n",
    "            break\n",
    "        # gather input and output parts of the pattern\n",
    "        seq_x, seq_y = sequence[i:end_ix], sequence[end_ix]\n",
    "        X.append(seq_x)\n",
    "        y.append(seq_y)\n",
    "    return np.array(X), np.array(y)"
   ]
  },
  {
   "cell_type": "code",
   "execution_count": 105,
   "metadata": {},
   "outputs": [],
   "source": [
    "def train_val_test_split(data):\n",
    "    # Creating 60-20-20 train-validation-test split\n",
    "    size_train_test = int(len(data) * 0.8)\n",
    "    train, test = data[:size_train_test], data[size_train_test:]\n",
    "    size_train_val = int(len(train) * 0.75)\n",
    "    train, val = train[:size_train_val], train[size_train_val:]\n",
    "    print('Train:',len(train))\n",
    "    print('Validation:',len(val))\n",
    "    print('Test:',len(test))\n",
    "    return train, val, test"
   ]
  },
  {
   "cell_type": "code",
   "execution_count": 106,
   "metadata": {},
   "outputs": [],
   "source": [
    "def lstm_predictions(train, val, model, n_steps, n_features):\n",
    "    predictions = []\n",
    "    for i in range(len(val)-n_steps):\n",
    "        x_input = np.array(val.values[i:i+n_steps])\n",
    "        x_input = x_input.reshape((1, n_steps, n_features))\n",
    "        yhat = model.predict(x_input, verbose=0)\n",
    "        predictions.append(yhat)\n",
    "    return array(predictions).reshape((len(predictions)))"
   ]
  },
  {
   "cell_type": "code",
   "execution_count": 107,
   "metadata": {},
   "outputs": [],
   "source": [
    "def lstm_with_grid_search(train, val, n_steps_list=[6,12], batch_size_list=[32], epochs_list=[2]):\n",
    "    '''Trains model with specific hyper parameters through grid search\n",
    "    and returns dictionary of hyperparameters as key and mse as value.\n",
    "    Output:{(n_steps,batch_size,epochs,predictions,model): mse}\n",
    "    '''\n",
    "    lstm_grid_search_results = defaultdict(int)\n",
    "    for n_steps in n_steps_list:\n",
    "        for batch_size in batch_size_list:\n",
    "            for epochs in epochs_list:\n",
    "                print('Model with:','n_steps:',n_steps,'batch_size:',batch_size,'epochs:',epochs)\n",
    "                # splitting into n length sequences\n",
    "                X, y = split_sequence(train, n_steps)\n",
    "\n",
    "                # reshape from [samples, timesteps] into [samples, timesteps, features]\n",
    "                n_features = 1 # Series is univariate\n",
    "                X = X.reshape((X.shape[0], X.shape[1], n_features))\n",
    "\n",
    "                # Model Architecture\n",
    "                model = Sequential()\n",
    "                model.add(LSTM(128, activation='relu', input_shape=(n_steps, n_features),return_sequences=True))\n",
    "                model.add(Dropout(0.2, input_shape=(n_steps, n_features)))\n",
    "                model.add(LSTM(128, activation='relu', input_shape=(n_steps, n_features),return_sequences=False)) # return_sequences=True\n",
    "#                 model.add(LSTM(128, activation='relu', input_shape=(n_steps, n_features),return_sequences=False)) \n",
    "#                 model.add(Dropout(0.2, input_shape=(n_steps, n_features)))\n",
    "                model.add(Dense(1))\n",
    "                model.compile(optimizer='adam', loss='mse')\n",
    "                \n",
    "                # fitting model\n",
    "                model.fit(X, y, batch_size=batch_size, epochs=epochs)\n",
    "                \n",
    "                # Making predictions on validation set\n",
    "                predictions = lstm_predictions(train, val, model, n_steps, n_features)\n",
    "                \n",
    "                # Calculating MSE\n",
    "                mse = mean_squared_error(val[n_steps:],predictions) \n",
    "                print('Test MSE: %.3f' % mse)\n",
    "                \n",
    "                lstm_grid_search_results[(n_steps,batch_size,epochs,predictions,model)] = mse \n",
    "    return dict(lstm_grid_search_results)"
   ]
  },
  {
   "cell_type": "markdown",
   "metadata": {},
   "source": [
    "### LSTM Grid Search"
   ]
  },
  {
   "cell_type": "code",
   "execution_count": 69,
   "metadata": {},
   "outputs": [
    {
     "name": "stdout",
     "output_type": "stream",
     "text": [
      "Train: 5253\n",
      "Validation: 1751\n",
      "Test: 1752\n"
     ]
    }
   ],
   "source": [
    "train, val, test = train_val_test_split(hourly_call_volume_medical_2018)"
   ]
  },
  {
   "cell_type": "code",
   "execution_count": 88,
   "metadata": {},
   "outputs": [
    {
     "name": "stdout",
     "output_type": "stream",
     "text": [
      "Model with: n_steps: 6 batch_size: 32 epochs: 2\n",
      "Epoch 1/2\n",
      "5247/5247 [==============================] - 4s 744us/step - loss: 31.9204\n",
      "Epoch 2/2\n",
      "5247/5247 [==============================] - 2s 327us/step - loss: 19.8313\n",
      "Test MSE: 18.466\n",
      "Model with: n_steps: 12 batch_size: 32 epochs: 2\n",
      "Epoch 1/2\n",
      "5241/5241 [==============================] - 5s 1ms/step - loss: 24.6362\n",
      "Epoch 2/2\n",
      "5241/5241 [==============================] - 3s 571us/step - loss: 17.6243\n",
      "Test MSE: 16.699\n"
     ]
    }
   ],
   "source": [
    "lstm_grid_search_results = lstm_with_grid_search(train, val)"
   ]
  },
  {
   "cell_type": "code",
   "execution_count": 112,
   "metadata": {},
   "outputs": [
    {
     "data": {
      "text/plain": [
       "(12, 32, 2, <keras.engine.sequential.Sequential at 0x1a3a5ac898>)"
      ]
     },
     "execution_count": 112,
     "metadata": {},
     "output_type": "execute_result"
    }
   ],
   "source": [
    "min(lstm_grid_search_results, key=lstm_grid_search_results.get)"
   ]
  },
  {
   "cell_type": "code",
   "execution_count": 111,
   "metadata": {},
   "outputs": [
    {
     "data": {
      "text/plain": [
       "array([[14.301679]], dtype=float32)"
      ]
     },
     "execution_count": 111,
     "metadata": {},
     "output_type": "execute_result"
    }
   ],
   "source": [
    "# model.predict(np.array([1,2,4,26,34,4,4,5,45,3,34,2]).reshape((1, 12, 1)))"
   ]
  },
  {
   "cell_type": "code",
   "execution_count": null,
   "metadata": {},
   "outputs": [],
   "source": []
  }
 ],
 "metadata": {
  "kernelspec": {
   "display_name": "Python 3",
   "language": "python",
   "name": "python3"
  },
  "language_info": {
   "codemirror_mode": {
    "name": "ipython",
    "version": 3
   },
   "file_extension": ".py",
   "mimetype": "text/x-python",
   "name": "python",
   "nbconvert_exporter": "python",
   "pygments_lexer": "ipython3",
   "version": "3.6.8"
  }
 },
 "nbformat": 4,
 "nbformat_minor": 2
}
